{
 "cells": [
  {
   "cell_type": "code",
   "execution_count": null,
   "metadata": {},
   "outputs": [],
   "source": [
    "%load_ext autoreload\n",
    "%autoreload 2\n",
    "\n",
    "%matplotlib inline"
   ]
  },
  {
   "cell_type": "markdown",
   "metadata": {},
   "source": [
    "## Basic setup"
   ]
  },
  {
   "cell_type": "markdown",
   "metadata": {},
   "source": [
    "Create anaconda environment\n",
    "<br>\n",
    "```bash\n",
    "conda create -n ml python=3.7.4 jupyter\n",
    "```\n",
    "Install fastai library\n",
    "<br>\n",
    "```bash\n",
    "conda install -c pytorch -c fastai fastai\n",
    "```"
   ]
  },
  {
   "cell_type": "code",
   "execution_count": null,
   "metadata": {},
   "outputs": [],
   "source": [
    "!pip install https://github.com/ipython-contrib/jupyter_contrib_nbextensions/tarball/master\n",
    "!pip install jupyter_nbextensions_configurator\n",
    "!jupyter contrib nbextension install --user\n",
    "!jupyter nbextensions_configurator enable --user"
   ]
  },
  {
   "cell_type": "markdown",
   "metadata": {},
   "source": [
    "# Metric spaces"
   ]
  },
  {
   "cell_type": "markdown",
   "metadata": {},
   "source": [
    "#### Prove that:\n",
    "For every metric space (X, d):\n",
    "- For eny $\\mathcal{U} = \\{U | U$ is open in $(X, d)\\}$ holds $\\bigcup_{U \\in \\mathcal{U}} U$ is open in $(X, d)$\n",
    "- For eny two $U, V \\subset X$ open in $(X, d)$ holds: $U \\cap V$ is open in $(X, d)$\n",
    "- $X$ is open in $(X, d)$\n",
    "- $\\emptyset$ is open in $(X, d)$"
   ]
  },
  {
   "cell_type": "markdown",
   "metadata": {},
   "source": [
    "## Proof:\n",
    "- For each element in U there should be $a>0$ with ${(x - a, x + a) \\in U.}$ so $\\bigcup_{U \\in \\mathcal{U}} U$ is open in (X, d)\n",
    "-  In (X, d) U and V will be open and will have own $\\epsilon$. Intersection of these sets -  $\\epsilon = max(\\epsilon_{1}, \\epsilon_{2})$. Therefore, ${U \\cap V}$ will be open in ${(X, d)}$\n",
    "- $X$ is open because any ball by the definition is a subset of $X$\n",
    "- $\\emptyset$ is open because there is no $x \\in \\emptyset$."
   ]
  },
  {
   "cell_type": "markdown",
   "metadata": {},
   "source": [
    "#### Prove that:\n",
    "- For eny finity set $(U)_{i=1}^{n}$ of open sets in $(X, d)$, $\\bigcap_{i=1}^{n}U$ is open in $(X, d)$"
   ]
  },
  {
   "cell_type": "markdown",
   "metadata": {},
   "source": [
    "### Proof:\n",
    "- Let $U_{i}$ be an open set. For every $U_{i}$ we have ${\\epsilon_{i}}$. So $\\bigcap_{i=1}^{n}U$ is giong to be open in $(X, d)$"
   ]
  },
  {
   "cell_type": "markdown",
   "metadata": {},
   "source": [
    "#### Prove that for set $U \\subset X$ is open if and only if for each point $x \\in U$ there exists the open neighbourhood $V$ of $x$ such that $V \\subset U$"
   ]
  },
  {
   "cell_type": "markdown",
   "metadata": {},
   "source": [
    "### Proof:\n",
    "- Let there be some point $x \\in U$ where the open neighbourhood does not exist that $V$ of $x$ such that $V \\subset U$.\n",
    "- it means that for some $x \\in U$ we have closed neighbourhood, which according to the definition of openness is impossible."
   ]
  },
  {
   "cell_type": "markdown",
   "metadata": {},
   "source": [
    "#### Prove that, closed ball is closed subset in $(X, d)$\n"
   ]
  },
  {
   "cell_type": "markdown",
   "metadata": {},
   "source": [
    "### Proof:\n",
    "- If we take two finite sets X and Y with $X \\cong Y$ and assume that Y is larger then X, the relationship will not be bijective, in order the relationship to be bijective number of elemts should equal to each other."
   ]
  },
  {
   "cell_type": "markdown",
   "metadata": {},
   "source": [
    "#### Prove that\n",
    "For every metric space (X, d):\n",
    "- For eny $\\mathcal{F} = \\{F | F$ is closed in $(X, d)\\}$ holds $\\bigcap_{F \\in \\mathcal{F}} F$ is closed in $(X, d)$\n",
    "- For eny two $F_1, F_2 \\subset X$ closed in $(X, d)$ holds: $F_1 \\cup F_2$ is closed in $(X, d)$\n",
    "- $X$ is closed in $(X, d)$\n",
    "- $\\emptyset$ is closed in $(X, d)$"
   ]
  },
  {
   "cell_type": "markdown",
   "metadata": {},
   "source": [
    "### Proof:\n",
    "- Let $E = S\\ \\bigcap_{F \\in \\mathcal{F}} F$ then E equals to $\\bigcup_{F \\in \\mathcal{F}}$S\\F. $\\bigcup_{F \\in \\mathcal{F}}$ S\\F is an open set, so $\\bigcup_{F \\in \\mathcal{F}}$ S\\F = S\\ $\\bigcap_{F \\in \\mathcal{F}} F$ open as wll. Therefore, $\\bigcap_{F \\in \\mathcal{F}} F$ will be closed.\n",
    "- S \\ ($F_{1} \\cup F_{2})$ = S \\ $F_{1} \\cap$ S \\ $F_{2}$. We know that S \\ $F_{1}$ and S \\ $F_{2}$ are open sets, So S \\ $F_{1} \\cap$ S \\ $F_{2}$ is open set and S \\ ($F_{1} \\cup F_{2})$ is also open which means that $F_{1} \\cup F_{2}$ is closed.\n",
    "- From the proof above we know that $\\emptyset$ is open, it's complements is $ X / \\emptyset$ which is X, therefore it's closed.\n",
    "- We have prooved that X is open, it's complement should then be a closed set, $X /X $ is $\\emptyset$ which will be closed."
   ]
  },
  {
   "cell_type": "markdown",
   "metadata": {},
   "source": [
    "#### Prove that:\n",
    "- For eny finity set $(F)_{i=1}^{n}$ of closed sets in $(X, d)$, $\\bigcup_{i=1}^{n}F$ is closed in $(X, d)$"
   ]
  },
  {
   "cell_type": "markdown",
   "metadata": {},
   "source": [
    "### Proof:\n",
    "\n",
    "- By the definition of close set S \\ (S \\ $\\bigcup_{i=1}^{n}F$)- is closed. S \\ (S \\ $\\bigcup_{i=1}^{n}F$) = $\\bigcup_{i=1}^{n}F$,Therefore $\\bigcup_{i=1}^{n}F$ is closed set as well."
   ]
  },
  {
   "cell_type": "markdown",
   "metadata": {},
   "source": [
    "#### Prove that, if $F \\subset X$ is closed then $X - F$ is open in $(X, d)$ "
   ]
  },
  {
   "cell_type": "markdown",
   "metadata": {},
   "source": [
    "### Proof:\n",
    "- By the definition of closed sets if $F \\subset X$ is closed set its complement should be an open set,\n",
    "<br>\n",
    "therefore   $X - F$ is an open set."
   ]
  },
  {
   "cell_type": "markdown",
   "metadata": {},
   "source": [
    "# Metrics in Euclidean spaces"
   ]
  },
  {
   "cell_type": "markdown",
   "metadata": {},
   "source": [
    "#### Prove that:\n",
    "- for every $u, v \\in \\mathbb{R}^{n}$: $d(u, v) \\geq 0$\n",
    "- for every $v \\in \\mathbb{R}^{n}$: $d(v, v) = 0$\n",
    "- for every $u, v \\in \\mathbb{R}^{n}$: $d(u, v) = d(v, u)$ (symmetry)\n",
    "- for every $u, v, w \\in \\mathbb{R}^{n}$: $d(u, w) \\leq d(v, u) + d(v, w)$ (triangle inequality)"
   ]
  },
  {
   "cell_type": "markdown",
   "metadata": {},
   "source": [
    "### Proof:\n",
    "- We have two vectors u,v in $R^{n}$. We can define distance as $d(u,v) = \\sqrt{\\sum_{i=1}^{n}(u_{i} - v_{i})^2}$. So, $(u_{i} \n",
    "<br>\n",
    "v_{i})^2$ must be positive. So their sum and square root will also be positive. Therefore $d(u,v) \\geq 0$\n",
    "- For every $v \\in \\mathbb{R}^{n}$: $d(v) = 0$ because $(v_{i} - v_{i})^2$ is equal to 0. Sum of zeros as well as root is aqual to zero. So, $v \\in \\mathbb{R}^{n}$: $d(v, v) = 0$\n",
    "- For every $u, v \\in \\mathbb{R}^{n}$: $d(u, v) = d(v, u)$ we have $(u_{i} - v_{i})^2 = (v_{i} - u_{i})^2$. Using proof above we can conclude that $u, v \\in \\mathbb{R}^{n}$: $d(u, v) = d(v, u)$.\n",
    "- For every $u, v, w \\in \\mathbb{R}^{n}$, we have $d(u,w)^2 = \\sum_{i=1}^{n}(u_{i} - w_{i})^2$ =<br>$\\sum_{i=1}^{n}((u_{i} - v_{i}) - (w_{i} - v_{i}))^2$ = $(d(u,v) + d(w,v))^2$. <br>Therefore $d(u,w) \\leq d(u,v) + d(w, v)$.\n"
   ]
  },
  {
   "cell_type": "markdown",
   "metadata": {},
   "source": [
    "#### Prove the same properties hold for $d(u, v) = ||u-v||_1$ ($||u-v||_1 = \\sum_{i = 1}^{n}|u_i - v_i|$)"
   ]
  },
  {
   "cell_type": "markdown",
   "metadata": {},
   "source": [
    "### Proof:\n",
    "\n",
    "- We have two vectors $v, u \\in R^{n}$ for which $d(u,v) = \\sum_{i = 1}^{n}|u_i - v_i|$. $|u_i - v_i|$ is always $\\geq 0$ therefore $d(u,v) \\geq 0$\n",
    "<br>\n",
    "For every $v \\in R^{n}: d(v,v) = 0$ because $|v_i - v_i|$ = 0 and same can be said about $\\sum_{i = 1}^{n}|v_i - v_i|$.\n",
    "<br>\n",
    "For every $u,v \\in R^{n}: d(u,v) = d(v,u)$ because $|v_{i} - u_{i}| = |u_{i} - v_{i}|$ and $\\sum_{i=1}^{n}|v_{i} - u_{i}| = \\sum_{i=1}^{n}|u_{i} - v_{i}|$.\n",
    "<br>\n",
    "We have $u,v,w \\in R^{n}$ and $d(u,w) = \\sum_{i = 1}^{n}|u_i - w_i| = \\sum_{i = 1}^{n}|(u_{i} - v_{i}) - (w_i - v_i)| \\leq \\sum_{ i = 1} ^{n}|u_{i} - v_{i}| + \\sum_{i = 1} ^{n}|w_{i} - v_{i}| \\leq d(u, v) + d(w, v)$. Therefore $d(u, w) \\leq d(u, v) + d(w, v)$."
   ]
  },
  {
   "cell_type": "markdown",
   "metadata": {},
   "source": [
    "## Sequences and limits"
   ]
  },
  {
   "cell_type": "markdown",
   "metadata": {},
   "source": [
    "#### Prove that $x = \\lim_{n\\to\\infty}{x_n}$ in $(X, d)$ if and only if (iff) for every $r \\in \\mathbb{R}$ there exists $n_0 \\in \\mathbb{N}$ such that: $x_i \\in B(x, r)$ for every $i \\gt n_0$"
   ]
  },
  {
   "cell_type": "markdown",
   "metadata": {},
   "source": [
    "### Proof:\n",
    "- If $x = \\lim_{n\\to\\infty}{x_n}$ in $(X, d)$ we will have $(x_i)_{i=1}^{\\infty}$ which is infinite and $x \\in X$. $x = \\lim_{n\\to\\infty}{x_n}$ in $(X, d)$ is for every open set $U \\in X$ with $x \\in U$ so there should be $n_0 \\in \\mathbb{R}$ with $x_i \\in U$ for every $i \\gt n_0$. $B(x,r)$ is an open set which contains $x \\in B(x,r)$. So $n_{0} \\in N \\in R$ with $i &gt; n_0$."
   ]
  },
  {
   "cell_type": "markdown",
   "metadata": {},
   "source": [
    "#### Prove that if $x = \\lim_{n\\to\\infty}{x_n}$ and $x \\notin \\{-\\infty, \\infty\\}$ then $(x_i)_{i=1}^{\\infty} = (x_1, x_2, \\dots, x_n)$ is a Cauchy sequence\n",
    "<br>\n",
    "For closed set $F \\subset \\mathbb{R}^n$ and convergent sequence $(x_i)_{i=1}^{\\infty} = (x_1, x_2, \\dots, x_n)$ such that there exists $n_0 \\in \\mathbb{N}$ such that $x_i \\in F$ for each $i \\gt n_0$ then: $\\lim_{n\\to\\infty}{x_n} \\in F$"
   ]
  },
  {
   "cell_type": "markdown",
   "metadata": {},
   "source": [
    "### Proof:\n",
    "- $x \\notin \\{-\\infty, \\infty\\}$ means that x d is a finite number. For $x \\in R$ and $n_0 \\in N$ there exists $d(x_i, x_j)<x$ such that $i,j < n_0$\n",
    "- For closed set $F \\subset \\mathbb{R}^n$ and convergent sequence $(x_i)_{i=1}^{\\infty} = (x_1, x_2, \\dots, x_n)$ such that there exists $n_0 \\in \\mathbb{N}$ such that $x_i \\in F$ for each $i \\gt n_0$ then: $\\lim_{n\\to\\infty}{x_n} \\in F$"
   ]
  },
  {
   "cell_type": "markdown",
   "metadata": {},
   "source": [
    "#### Prove that if $F$ is open from previous example, statement does not hold. "
   ]
  },
  {
   "cell_type": "markdown",
   "metadata": {},
   "source": [
    "### Proof:\n",
    "- If $F \\in R^n$ is open set, we will have $x,y \\in F$ and d(x, y) < $\\epsilon$. Which means that we will have $n_0$ \\in $N$ and $d(x_{i}, \\lim_{n\\to\\infty}{x_n})$ < $\\epsilon$ which will go against the definition.\n"
   ]
  },
  {
   "cell_type": "markdown",
   "metadata": {},
   "source": [
    "#### Prove that inherited metric is a metric"
   ]
  },
  {
   "cell_type": "markdown",
   "metadata": {},
   "source": [
    "### Proof:\n",
    "- Suppose we have metric M = $(X,d)$ and $S \\subset X$. Suppose that we have $d_S:$ S X S $\\to R$ as a restriction $d|_{S X S}$ of d to S. Now we have $(S, d_S) \\subset (X,d)$. Using the definition of restriction for all $x, y \\in S$ we have $d_S(x,y) = d(x, y)$. As we know d is a metric,therefore metric space axioms would also hold for every $x,y\\in X$ under d.Using the definition of subset, all $x,y \\in S$ are also in X. Hence the metric space axioms would hold for all $x,y \\in S$ under $d_S$."
   ]
  },
  {
   "cell_type": "markdown",
   "metadata": {},
   "source": [
    "## Limits of functions"
   ]
  },
  {
   "cell_type": "markdown",
   "metadata": {},
   "source": [
    "Let $f:S \\to Y$ is function between subset $S \\subset X$ of a metric space $(X, d_x)$ and metric space $(Y, d_Y)$\n",
    "- We say that the limit of function $f:(S, d_x) \\to (Y, d_Y)$ between metric spaces in some limit point $c \\in X$ of the subset $S$ is $y \\in Y $if for each open neighborhood of $y \\in V \\subset Y$ there exists the open seighborhood of $c \\in U \\subset X$ such that $f(U \\cap S) \\subset V$\n",
    "<br>\n",
    "This definition is equiualent of definition:\n",
    "<br>\n",
    "- The limit of function $f:(S, d_X) \\to (Y, d_Y)$ between metric spaces in limit point $c \\in X$ of the subset $S$ is $y \\in Y $ if for each open ball $B(x, r) \\subset Y$ there exists the ball $B(c, l) \\subset X$ such that $f(B(c, l) \\cap S) \\subset B(y, r)$\n",
    "<br>\n",
    "or\n",
    "<br>\n",
    "- The limit of function $f:(S, d_X) \\to (Y, d_Y)$ between metric spaces in limit point $c \\in X$ of subset $S$ is $y \\in Y $ if for any $r \\in \\mathbb{R}$ there exists $l \\in \\mathbb{R}$ such that for every $x \\in S$ with $d_X(x, c) < l$ implies that $d_Y(f(x), y) < r$"
   ]
  },
  {
   "cell_type": "markdown",
   "metadata": {},
   "source": []
  },
  {
   "cell_type": "markdown",
   "metadata": {},
   "source": [
    "#### Prove that this three definitions are equiualent for eny function between eny two metric spaces"
   ]
  },
  {
   "cell_type": "markdown",
   "metadata": {},
   "source": [
    "## Continuous functions "
   ]
  },
  {
   "cell_type": "markdown",
   "metadata": {},
   "source": [
    "#### Prove that function is continuous in $c$ if for eny sequence $(x_n)_{n=1}^{\\infty} \\subset X$ such that $\\lim_{n \\to \\infty}x_n = c$ we have $\\lim_{n \\to \\infty}f(x_n) = f(c)$"
   ]
  },
  {
   "cell_type": "markdown",
   "metadata": {},
   "source": [
    "### Proof:\n",
    "- If $(x_n)_{n=1}^{\\infty} \\subset X$ and $\\lim_{n \\to \\infty}x_n = c$ and $\\lim_{n \\to \\infty}f(x_n) = f(c)$. We will have $c \\in X$ for which $\\lim_{n \\to \\infty}f(x_n) = f(c)$. So, $f:(X, d_X) \\to (Y, d_Y)$ is called continuous in $c \\in X$."
   ]
  },
  {
   "cell_type": "markdown",
   "metadata": {},
   "source": [
    "#### Prove that function is continuous if for every open set $V \\subset Y$ the $f^{-1}(V)$ is open in $X$"
   ]
  },
  {
   "cell_type": "markdown",
   "metadata": {},
   "source": [
    "### Proof:\n",
    "- The function $f:(X, d_X) \\to (Y, d_Y)$ is called continuous if for every open neighborhood of $f(c) \\in U \\subset Y$ there exists the open neighborhood $c \\in V \\subset X$ such that $f(V) \\subset U$. So let's take $U=f^{-1}(V)$."
   ]
  },
  {
   "cell_type": "markdown",
   "metadata": {},
   "source": [
    "#### Prove that function is continuous if for every closed set $F \\subset Y$ the $f^{-1}(F)$ is open in $X$"
   ]
  },
  {
   "cell_type": "markdown",
   "metadata": {},
   "source": [
    "#### Prove that any composition of continous functions is continous"
   ]
  },
  {
   "cell_type": "markdown",
   "metadata": {},
   "source": [
    "### Proof:\n",
    "- Suppose f and g are functions, g is continuous at a, and f is continuous at  $g(a)$. Composition $f(g(x))$ is continious at a.\n",
    "<br>\n",
    "For all $\\epsilon > 0$ there is some $\\delta1$ that $|g(x) - g(a)| < \\delta1 \\to |f(g(x)) - f(g(a))|< \\epsilon$\n",
    "<br>\n",
    "if g is continious at a, there is some $\\delta$ that $|x-a|< \\delta \\to |g(x) - g(a)| < \\delta1$\n",
    "$\\epsilon = \\delta1$. Therefore for all $\\epsilon > 0$ there is $\\delta > 0$ that: $|x-a|< \\delta \\to |g(x)-g(a)|<\\delta1 \\to |f(g(x)) - f(g(a))| < \\epsilon$"
   ]
  },
  {
   "cell_type": "code",
   "execution_count": null,
   "metadata": {},
   "outputs": [],
   "source": []
  }
 ],
 "metadata": {
  "kernelspec": {
   "display_name": "Python 3",
   "language": "python",
   "name": "python3"
  },
  "language_info": {
   "codemirror_mode": {
    "name": "ipython",
    "version": 3
   },
   "file_extension": ".py",
   "mimetype": "text/x-python",
   "name": "python",
   "nbconvert_exporter": "python",
   "pygments_lexer": "ipython3",
   "version": "3.7.3"
  }
 },
 "nbformat": 4,
 "nbformat_minor": 4
}
