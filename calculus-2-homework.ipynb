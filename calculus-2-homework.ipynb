{
 "cells": [
  {
   "cell_type": "code",
   "execution_count": null,
   "metadata": {},
   "outputs": [],
   "source": [
    "%load_ext autoreload\n",
    "%autoreload 2\n",
    "\n",
    "%matplotlib inline"
   ]
  },
  {
   "cell_type": "markdown",
   "metadata": {},
   "source": [
    "## Basic setup"
   ]
  },
  {
   "cell_type": "markdown",
   "metadata": {},
   "source": [
    "Create anaconda environment\n",
    "<br>\n",
    "```bash\n",
    "conda create -n ml python=3.7.4 jupyter\n",
    "```\n",
    "Install fastai library\n",
    "<br>\n",
    "```bash\n",
    "conda install -c pytorch -c fastai fastai\n",
    "```"
   ]
  },
  {
   "cell_type": "markdown",
   "metadata": {},
   "source": [
    "# Derivatives"
   ]
  },
  {
   "cell_type": "markdown",
   "metadata": {},
   "source": [
    "#### Example:\n",
    "$$f(x,y) = \\begin{cases}x & \\text{if }y \\ne x^2 \\\\ 0 & \\text{if }y = x^2\\end{cases}$$"
   ]
  },
  {
   "cell_type": "markdown",
   "metadata": {},
   "source": [
    "### Proof:\n",
    "- $fx(0,0)=1$, $fx(x,y)=fx(x,0)=x$, the derivative with respect x is 1.\n",
    "- $fy(0,0) = 0$, so the partical derivatives of functions do not equal at (0,0), function is not deffirintiable.  "
   ]
  },
  {
   "cell_type": "markdown",
   "metadata": {},
   "source": [
    "#### Example:\n",
    "$$f(x,y) = \\begin{cases}y^3/(x^2+y^2) & \\text{if }(x,y) \\ne (0,0) \\\\ 0 & \\text{if }(x,y) = (0,0)\\end{cases}$$"
   ]
  },
  {
   "cell_type": "markdown",
   "metadata": {},
   "source": [
    "### Proof:\n",
    "- x axis - $\\frac 0{(x^2+a^2)} = 0$ partcial derivative along x axis $fx(0,0)=0$\n",
    "- y axis - $\\frac {y^3} {(0^2+y^2)} = y$ partiacl derivative along y axis $fy(0,0)=1$\n",
    "- partial derivatives do not equal so function is not differantable at (0,0).\n",
    "- can be proven using polar coordinats \n",
    "$$g(r, \\theta) = \\big\\{ \\begin{align*} r\\sin^3(\\theta) \\; if \\; r \\neq 0\\\\ 0 \\; if \\;  r = 0 \\end{align*}$$\n",
    "<br>\n",
    "if $\\theta$ is multipule of $\\pi$ function is 0. For other values of $\\theta$ there are non-zero values for $r\\sin^3(\\theta)$, but not when $r=0$ where function jumps to zero, in this direction the function is not differentable."
   ]
  },
  {
   "cell_type": "code",
   "execution_count": null,
   "metadata": {},
   "outputs": [],
   "source": []
  }
 ],
 "metadata": {
  "kernelspec": {
   "display_name": "Python 3",
   "language": "python",
   "name": "python3"
  },
  "language_info": {
   "codemirror_mode": {
    "name": "ipython",
    "version": 3
   },
   "file_extension": ".py",
   "mimetype": "text/x-python",
   "name": "python",
   "nbconvert_exporter": "python",
   "pygments_lexer": "ipython3",
   "version": "3.7.3"
  }
 },
 "nbformat": 4,
 "nbformat_minor": 4
}
