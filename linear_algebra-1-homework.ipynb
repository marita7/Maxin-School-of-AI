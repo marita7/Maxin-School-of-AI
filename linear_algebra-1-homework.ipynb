{
 "cells": [
  {
   "cell_type": "code",
   "execution_count": null,
   "metadata": {},
   "outputs": [],
   "source": [
    "%load_ext autoreload\n",
    "%autoreload 2\n",
    "\n",
    "%matplotlib inline"
   ]
  },
  {
   "cell_type": "markdown",
   "metadata": {},
   "source": [
    "## Basic setup"
   ]
  },
  {
   "cell_type": "markdown",
   "metadata": {},
   "source": [
    "Create anaconda environment\n",
    "<br>\n",
    "```bash\n",
    "conda create -n ml python=3.7.4 jupyter\n",
    "```\n",
    "Install fastai library\n",
    "<br>\n",
    "```bash\n",
    "conda install -c pytorch -c fastai fastai\n",
    "```"
   ]
  },
  {
   "cell_type": "markdown",
   "metadata": {},
   "source": [
    "# Set theory basics"
   ]
  },
  {
   "cell_type": "markdown",
   "metadata": {},
   "source": [
    "#### Prove that:\n",
    "<br>\n",
    "$A \\subseteq A$"
   ]
  },
  {
   "cell_type": "markdown",
   "metadata": {},
   "source": [
    "### Proof:\n",
    "- Let A be a set, let x∈A and x∈A for every x, \n",
    "- Then $(∀x)( x∈A \\to x∈A )$ is true,\n",
    "- Therefore $𝐴 \\subseteq 𝐴$ true."
   ]
  },
  {
   "cell_type": "markdown",
   "metadata": {},
   "source": [
    "#### Prove that:\n",
    "<br>\n",
    "If $A \\subseteq B$ and $B \\subseteq A$ $\\to$ $A = B$"
   ]
  },
  {
   "cell_type": "markdown",
   "metadata": {},
   "source": [
    "### Proof:\n",
    "- let x ∈ to A,  if $A \\subseteq B$ then x ∈ to B. $(∀x::x∈A \\to x∈B)$\n",
    "- if x ∈ B and $B \\subseteq A$ then x ∈ to A. $(∀x::x∈B \\to x∈A)$\n",
    "- Therefore every x element that belongs to B also belongs to A, \n",
    "- Thus $A = B$"
   ]
  },
  {
   "cell_type": "markdown",
   "metadata": {},
   "source": [
    "#### Prove that:\n",
    "<br>\n",
    "if $B \\subset A$ then $A \\cap B = B$"
   ]
  },
  {
   "cell_type": "markdown",
   "metadata": {},
   "source": [
    "### Proof:\n",
    "\n",
    "- $𝐵 \\subset 𝐴$ if (∀x)( x∈B ⇒ x∈A ),\n",
    "\n",
    "- and $𝐴 \\cap 𝐵$ means x∈A AND x∈B\n",
    "\n",
    "- but if every x element in B also belongs to A \n",
    "\n",
    "- than $𝐴 \\cap 𝐵 = 𝐵$"
   ]
  },
  {
   "cell_type": "markdown",
   "metadata": {},
   "source": [
    "#### Prove that:\n",
    "<br>\n",
    "$A \\cap B = B \\cap A$"
   ]
  },
  {
   "cell_type": "markdown",
   "metadata": {},
   "source": [
    "- ### Poof:\n",
    "- $𝐴 \\cap 𝐵$ if  $x|x \\in A and x \\in B$\n",
    "- $B \\cap A$ if  ${x|x \\in B and x \\in A}$\n",
    "- ${x|x \\in A and x \\in B} = (x \\in B and x \\in A)$ therefore  $𝐴 \\cap B = 𝐵 \\cap 𝐴$"
   ]
  },
  {
   "cell_type": "markdown",
   "metadata": {},
   "source": [
    "#### Prove that:\n",
    "<br>\n",
    "if $B \\subset A$ then $A \\cup B = A$"
   ]
  },
  {
   "cell_type": "markdown",
   "metadata": {},
   "source": [
    "### Proof:\n",
    "- $𝐵 \\subset 𝐴$ if $(∀x)( x∈B \\to x∈A )$, \n",
    "- $𝐴 \\cup 𝐵$ means  (x ∈ A OR x ∈ B)\n",
    "- if every x in set B is also in set A than $𝐴 \\cup 𝐵 = 𝐴$"
   ]
  },
  {
   "cell_type": "markdown",
   "metadata": {},
   "source": [
    "#### Prove that:\n",
    "<br>\n",
    "$A \\cup B = B \\cup A$"
   ]
  },
  {
   "cell_type": "markdown",
   "metadata": {},
   "source": [
    "### Proof:\n",
    "- if x ∈ $A \\cup B$, then x ∈ to A OR B, (x ∈ A  or x ∈ B)\n",
    "- if x ∈ $B \\cup A$, then x ∈ to B OR A, (x ∈ B  or x ∈ A)\n",
    "- Therefore $A \\cup B = B \\cup A$"
   ]
  },
  {
   "cell_type": "markdown",
   "metadata": {},
   "source": [
    "#### Prove that:\n",
    "- for every injection $m:A \\to B$ and pair of functions $f, g :C \\to A$: if $m \\circ f = m \\circ g$ then $f = g$ and vice-versa\n",
    "- for every surjection $e:A \\to B$ and every pair of functions $f, g :B \\to C$: if $f \\circ e = g \\circ e$ then $f = g$ and vice-versa"
   ]
  },
  {
   "cell_type": "markdown",
   "metadata": {},
   "source": [
    "#### Prove that \n",
    "- composition of injections is injection itself\n",
    "- composition of surjections is surjection itself\n",
    "- composition of bijections is bijection itself\n",
    "<br>\n",
    "or give a counterexamples"
   ]
  },
  {
   "cell_type": "markdown",
   "metadata": {},
   "source": [
    "### Proof:\n",
    "- composition of injections in injection itself - proof by contrapositive:\n",
    "- Suppose\t$f:A \\to B$\tand\t$g:\tB \\to C$\tare\tinjective\t(1-to-1).\n",
    "<br>\n",
    "To\tprove\tthat\t$g \\circ f:\tA \\to C$\tis\tinjective,\twe\tneed\tto\tprove\tthat if\t$(g \\circ f)(x)\t=\t(g \\circ f)(y)$\tthen\t\n",
    "x =\ty.\n",
    "<br>\n",
    "Suppose\t$(g \\circ f)(x)\t=\t(g \\circ f)(y)$\t=\tc ∈ C.\n",
    "<br>\n",
    "This\tmeans\tthat\t$g(f(x))\t=\tg(f(y))$.\n",
    "<br>\n",
    "Let\tf(x)\t=\ta,\tf(y)\t=\tb,\tso\tg(a)\t=\tg(b).\n",
    "<br>\n",
    "Since\t$g:\tB \\to C$ is\tinjective\tand\tg(a)\t=\tg(b),\t\twe\tknow\tthat\ta =\tb.\n",
    "<br>\n",
    "This\tmeans\tthat\tf(x) =\tf (y).\n",
    "<br>\n",
    "Since\t$f:\tA \\to B$\tis\tinjective\tand\tf(x) =\tf (y),\twe\tknow\tthat\tx =\t\ty.\n",
    "<br>\n",
    "We\thave\tshown\tthat\tif\t$(g \\circ f)(x)\t=\t(g \\circ f)(y)$\tthen\tx =\ty.\n",
    "<br>\n",
    "This\tcompletes\tthe\tproof.\t"
   ]
  },
  {
   "cell_type": "markdown",
   "metadata": {},
   "source": [
    "- composition of surjection is surjection itself\n",
    "1.\tSuppose\t$f:\tA \\to B$\tand\t$g:\tB \\to C$\tare\tsurjective\t(onto).\n",
    "<br>\n",
    "To\tprove\tthat\t$g \\circ f:\tA \\to C$\tis\tsurjective,\twe\tneed\tto\tprove\tthat\t(∀)c ∈ C\t(∃) a ∈ A\tsuch\tthat\t\n",
    "$(g \\circ f)(a)\t=\tc$.\n",
    "<br>\n",
    "Let\tc\tbe\tany\telement\tof\tC.\t\n",
    "<br>\n",
    "Since\t$g:\tB \\to C$\tis\tsurjective,\t(∃)b∈B\tsuch\tthat\t$g(b)\t=\tc$.\n",
    "<br>\n",
    "Since\t$f:\tA \\to B$\tis\tsurjective,\t(∃)a∈A\tsuch\tthat\tf(a)\t=\tb.\n",
    "<br>\n",
    "So,\t$(g \\circ f)(a)\t=\tg(f(a))\t=\tg(b)\t=\tc$.\n",
    "<br>\n",
    "This\tcompletes\tthe\tproof."
   ]
  },
  {
   "cell_type": "markdown",
   "metadata": {},
   "source": [
    "- composition of bijections is bijection itself\n",
    "- bijection, if injective and surjective\n",
    "<br>\n",
    "Suppose  f,g are injective and suppose $(g \\circ f)(x)=(g \\circ f)(y)$. \n",
    "<br>\n",
    "That means  $g(f(x))=g(f(y))$.\n",
    "<br>\n",
    "Since  g is injective, $f(x)=f(y)$.\n",
    "<br>\n",
    "Since f is injective,  x=y.\n",
    "<br>\n",
    "Thus $g \\circ f$ is injective.\n",
    "<br>\n",
    "Suppose  f,g are surjective and suppose z∈C. \n",
    "<br>\n",
    "Since g is surjective, there exists some y∈B with  g(y)=z.\n",
    "<br>\n",
    "Since f is surjective, there exists some  x∈A with  f(x)=y.\n",
    "<br>\n",
    "Therefore $z=g(f(x))=(g \\circ f)(x)$ and so $z∈rng(g \\circ f)$.\n",
    "<br>\n",
    "Thus $g \\circ f$ is surjective.\n",
    "<br>\n",
    "If f,g are bijective then $g \\circ f$ is also bijective by what we have already proven."
   ]
  },
  {
   "cell_type": "markdown",
   "metadata": {},
   "source": [
    "#### Prove that for each set $A$:\n",
    "- $A \\cong A$\n",
    "- if $B \\cong A$ then $B \\cong A$ for every pair of sets $A$ and $B$\n",
    "- if $A \\cong B$ and $B \\cong C$ then $A \\cong C$ for every triplet $A$, $B$ and $C$"
   ]
  },
  {
   "cell_type": "markdown",
   "metadata": {},
   "source": [
    "### Proof:\n",
    "- ${A \\to A}$ this is a surjective and injective relation. For ${x \\in A}$ we have ${x \\in A}$ which is the same and therefore it is surjective. For ${x}$ and ${y}$ ${\\in A}$ they are equal to each other, meaning that it is injective. So, relationship between A and A is bijection, hence $A \\cong A$.\n",
    "- if $B \\cong A$ there is bijection between them. If these sets are bijective, pairs of sets taking from A and B will also have a bijective relationship.\n",
    "- if $A \\cong B$ and $B \\cong C$, which means A and B, B and C have bijection as well. For each ${b \\in B}$ we have only one ${a \\in A}$. Same applies to B and C. If we reverse the order we will see that for every c we have one b and for every b we have one a, so there is bijection between A and C for every A, B, C."
   ]
  },
  {
   "cell_type": "markdown",
   "metadata": {},
   "source": [
    "#### Prove that:\n",
    "<br>\n",
    "there exists a bijection between set of natural and even numbers\n",
    "### Proof:\n",
    "- Let N be set of natural numbers, E is a set of even numbers. We have ${N \\to E}$. For each ${e \\in E}$ we have one ${n \\in N}$, so, they are surjective and injective. Therefore they are bijective as well."
   ]
  },
  {
   "cell_type": "markdown",
   "metadata": {},
   "source": [
    "#### Prove that:\n",
    "<br>\n",
    "if we have a bijection between two finite sets than they have an equal number of elements"
   ]
  },
  {
   "cell_type": "markdown",
   "metadata": {},
   "source": [
    "#### Prove that:\n",
    "<br>\n",
    "$A \\times B \\cong B \\times A$"
   ]
  },
  {
   "cell_type": "markdown",
   "metadata": {},
   "source": [
    "### Proof:\n",
    "- For this one to works we have to have bijection between them.\n",
    "- For ${A \\times B}$ we have ${(a, b)}$ for every ${a \\in A, b \\in B}$. Same goes to ${B \\times A}$. Number of elemtns will be same for each element in ${B \\times A}$, so there is surjectivity and injectivity. So, there is bijection between A and B."
   ]
  },
  {
   "cell_type": "markdown",
   "metadata": {},
   "source": [
    "#### Prove that:\n",
    "<br>\n",
    "$$A \\cap (B \\cup C)=(A \\cap B) \\cup (A\\cap C)$$\n",
    "$$A \\cup (B \\cap C)=(A \\cup B) \\cap (A\\cup C)$$"
   ]
  },
  {
   "cell_type": "markdown",
   "metadata": {},
   "source": [
    "\n",
    "$\\cap_{i\\in I}A_i$ and $\\cup_{i\\in I}A_i$"
   ]
  },
  {
   "cell_type": "code",
   "execution_count": 1,
   "metadata": {},
   "outputs": [],
   "source": [
    "# Implementation in Python"
   ]
  },
  {
   "cell_type": "code",
   "execution_count": 8,
   "metadata": {},
   "outputs": [],
   "source": [
    "# here let's define set A\n",
    "A = {2, 4, 6, 8, 10}\n",
    "A_power = list(powset(A))\n",
    "A_inter = intersection(A_power)\n",
    "A_union = union(A)\n",
    "\n",
    "from itertools import chain, combinations\n",
    "def powset(iterable):\n",
    "    x = set(iterable)\n",
    "    return chain.from_iterable(combinations(x, r) for r in range(len(x)+1))\n",
    "\n",
    "def union(A):\n",
    "    return [a for a in set(A) | set(A)]\n",
    "\n",
    "def intersection(A):\n",
    "    return [A[i] for i in range(len(A)) for k in range(1, len(A)) if A[i] in A[k]]\n",
    "\n"
   ]
  },
  {
   "cell_type": "code",
   "execution_count": 9,
   "metadata": {},
   "outputs": [
    {
     "data": {
      "text/plain": [
       "True"
      ]
     },
     "execution_count": 9,
     "metadata": {},
     "output_type": "execute_result"
    }
   ],
   "source": [
    "set(A_union) == A\n"
   ]
  },
  {
   "cell_type": "code",
   "execution_count": 10,
   "metadata": {},
   "outputs": [
    {
     "data": {
      "text/plain": [
       "True"
      ]
     },
     "execution_count": 10,
     "metadata": {},
     "output_type": "execute_result"
    }
   ],
   "source": [
    "def cartesian(A):\n",
    "    return {(i, k) for i in A for k in A}\n",
    "A_cart = cartesian(A_power)\n",
    "len(A_cart) == len(A_power) * len(A_power)"
   ]
  },
  {
   "cell_type": "markdown",
   "metadata": {},
   "source": [
    "### Proof:\n",
    "-  $A \\cap (B \\cup C)=(A \\cap B) \\cup (A\\cap C)$\n",
    "<br>\n",
    " let x ∈ to $𝐴 \\cap (𝐵 \\cup 𝐶)$,\n",
    "<br>\n",
    " x ∈ to A AND (x ∈ to B OR x ∈ C),\n",
    "<br>\n",
    " (x ∈ to A AND x ∈ to B) OR (x ∈ A AND x ∈ to C)\n",
    "<br>\n",
    "Therefore $x ∈ to (𝐴 \\cap 𝐵) \\cup (𝐴 \\cap 𝐶)$\n",
    "\n",
    "### Proof:\n",
    "- $A \\cup (B \\cap C)=(A \\cup B) \\cap (A\\cup C)$\n",
    "<br>\n",
    "let $x ∈ A \\cup (B \\cap C)$,\n",
    "<br>\n",
    "means, x ∈ to A OR (x ∈ B AND x ∈ C),\n",
    "<br>\n",
    "(x ∈ to A OR x ∈ B) AND (x ∈ A OR x ∈ C) \n",
    "<br>\n",
    "Therefore: $x ∈ to (A \\cup B) \\cap (A\\cup C)$"
   ]
  },
  {
   "cell_type": "markdown",
   "metadata": {},
   "source": [
    "# Linear Algebra"
   ]
  },
  {
   "cell_type": "markdown",
   "metadata": {},
   "source": [
    "#### Prove that:\n",
    "<br>\n",
    "$(AB)^{T} = B^{T}A^{T}$ for each pair of matrices $A, B \\in \\mathbb{R}^{n \\times m}$"
   ]
  },
  {
   "cell_type": "markdown",
   "metadata": {},
   "source": [
    "### Proof:\n",
    "- $(AB)^T_{i,j} = \\sum_{k=1}^{n} a_{j, k} b_{k,i} = AB_{j,i}$\n",
    "$(B^{T}A^{T})_{i,j} = \\sum_{k=1}^{n} B^{T}_{i, k} A^{T}_{k,j} = \\sum_{k=1}^{n}b_{k,i} a_{j, k}$.\n",
    "<br>\n",
    "Therefore, $(AB)^T = B^T A^T$"
   ]
  }
 ],
 "metadata": {
  "kernelspec": {
   "display_name": "Python 3",
   "language": "python",
   "name": "python3"
  },
  "language_info": {
   "codemirror_mode": {
    "name": "ipython",
    "version": 3
   },
   "file_extension": ".py",
   "mimetype": "text/x-python",
   "name": "python",
   "nbconvert_exporter": "python",
   "pygments_lexer": "ipython3",
   "version": "3.7.3"
  }
 },
 "nbformat": 4,
 "nbformat_minor": 4
}
